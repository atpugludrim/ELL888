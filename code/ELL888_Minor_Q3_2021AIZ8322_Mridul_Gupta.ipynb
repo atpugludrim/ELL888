{
 "cells": [
  {
   "cell_type": "markdown",
   "id": "ba332fd7",
   "metadata": {},
   "source": [
    "# Q3\n",
    "I will use [MNIST Handwritten Digits Dataset](http://yann.lecun.com/exdb/mnist/) for this task by Yann LeCun since it is a big dataset as needed by us (though not so big, but it'll do for our purposes).\n",
    "$$\\text{For MNIST Handwritten digits }\\mathbf{X}\\in\\mathbb{R}^{60000\\times 28\\times 28\\times 1}$$\n",
    "$n=60000$ and $d=784$. We'll ignore the labels for this task."
   ]
  },
  {
   "cell_type": "code",
   "execution_count": 152,
   "id": "f6f35c4b",
   "metadata": {},
   "outputs": [],
   "source": [
    "from data.read_mnist import read_images"
   ]
  },
  {
   "cell_type": "code",
   "execution_count": 153,
   "id": "b72fb53b",
   "metadata": {},
   "outputs": [],
   "source": [
    "import numpy as np\n",
    "import matplotlib.pyplot as plt\n",
    "%matplotlib inline"
   ]
  },
  {
   "cell_type": "code",
   "execution_count": 154,
   "id": "479a4da1",
   "metadata": {},
   "outputs": [],
   "source": [
    "images = read_images(\"MNIST/train-images-idx3-ubyte\")"
   ]
  },
  {
   "cell_type": "code",
   "execution_count": 155,
   "id": "4388e6ee",
   "metadata": {},
   "outputs": [
    {
     "data": {
      "image/png": "[encoded data removed]",
      "text/plain": [
       "<Figure size 720x288 with 10 Axes>"
      ]
     },
     "metadata": {},
     "output_type": "display_data"
    }
   ],
   "source": [
    "fig, ax = plt.subplots(2,5,figsize=(10,4))\n",
    "idx = np.random.randint(0,60000,(10,))\n",
    "ctr = 0\n",
    "for i in range(2):\n",
    "    for j in range(5):\n",
    "        ax[i][j].imshow(images[idx[ctr]],cmap='gray')\n",
    "        ax[i][j].set_xticks([])\n",
    "        ax[i][j].set_yticks([])\n",
    "        ctr+=1"
   ]
  },
  {
   "cell_type": "markdown",
   "id": "62a5713e",
   "metadata": {},
   "source": [
    "### The autoencoder\n",
    "I'll use pytorch to create the deep learning model."
   ]
  },
  {
   "cell_type": "code",
   "execution_count": 156,
   "id": "f89b8dc4",
   "metadata": {},
   "outputs": [],
   "source": [
    "import torch\n",
    "import torch.nn as nn\n",
    "import torch.optim as optim\n",
    "import torch.nn.functional as F\n",
    "from torch.utils.data import Dataset, DataLoader"
   ]
  },
  {
   "cell_type": "code",
   "execution_count": 157,
   "id": "a8b2d3c1",
   "metadata": {},
   "outputs": [],
   "source": [
    "class mnist_dataset(Dataset):\n",
    "    def __init__(this,images):\n",
    "        this.images = images\n",
    "        this.len = len(images)\n",
    "    def __len__(this):\n",
    "        return this.len\n",
    "    def __getitem__(this, idx):\n",
    "        return torch.Tensor((this.images[i]-127)/127)"
   ]
  },
  {
   "cell_type": "code",
   "execution_count": 158,
   "id": "18e47ac8",
   "metadata": {},
   "outputs": [],
   "source": [
    "l = len(images)\n",
    "train_images = images[:int(.3*l)]\n",
    "val_images = images[int(.3*l):int(.4*l)]"
   ]
  },
  {
   "cell_type": "code",
   "execution_count": 159,
   "id": "ff52ee9d",
   "metadata": {},
   "outputs": [],
   "source": [
    "train_dataset = mnist_dataset(train_images.reshape(-1,784))\n",
    "dataloader = DataLoader(train_dataset,batch_size=32)\n",
    "\n",
    "val_dataset = mnist_dataset(val_images.reshape(-1,784))\n",
    "valoader = DataLoader(val_dataset)"
   ]
  },
  {
   "cell_type": "markdown",
   "id": "be00095e",
   "metadata": {},
   "source": [
    "- Encoder"
   ]
  },
  {
   "cell_type": "code",
   "execution_count": 160,
   "id": "7c3baa7e",
   "metadata": {},
   "outputs": [],
   "source": [
    "class encoder(nn.Module):\n",
    "    def __init__(this, input_dim = 784, hidden_dim = 15, num_layers = 2):\n",
    "        super().__init__()\n",
    "        this.module = nn.ModuleList()\n",
    "        this.input_dim = input_dim\n",
    "        this.hidden_dim = hidden_dim\n",
    "        this.num_layers = num_layers\n",
    "        this.module.append(nn.Linear(input_dim, hidden_dim))\n",
    "        for i in range(1,num_layers):\n",
    "            this.module.append(nn.Linear(hidden_dim,hidden_dim))\n",
    "    def forward(this, x):\n",
    "        h = x.view(-1,this.input_dim)\n",
    "        for i in range(this.num_layers):\n",
    "            h = F.relu(this.module[i](h))\n",
    "        return h"
   ]
  },
  {
   "cell_type": "markdown",
   "id": "5c1f027e",
   "metadata": {},
   "source": [
    "- Decoder"
   ]
  },
  {
   "cell_type": "code",
   "execution_count": 161,
   "id": "7abe8790",
   "metadata": {},
   "outputs": [],
   "source": [
    "class decoder(nn.Module):\n",
    "    def __init__(this, hidden_dim = 15, output_dim = 784, num_layers = 2):\n",
    "        super().__init__()\n",
    "        this.module = nn.ModuleList()\n",
    "        this.hidden_dim = hidden_dim\n",
    "        this.output_dim = output_dim\n",
    "        this.num_layers = num_layers\n",
    "        this.module.append(nn.Linear(hidden_dim, output_dim))\n",
    "        for i in range(1, num_layers):\n",
    "            this.module.append(nn.Linear(output_dim,output_dim))\n",
    "    def forward(this, h):\n",
    "        for i in range(this.num_layers-1):\n",
    "            h = F.relu(this.module[i](h))\n",
    "        h = torch.tanh(this.module[-1](h))\n",
    "        return h"
   ]
  },
  {
   "cell_type": "markdown",
   "id": "4b327f81",
   "metadata": {},
   "source": [
    "- Auto-Encoder"
   ]
  },
  {
   "cell_type": "code",
   "execution_count": 162,
   "id": "dd43df23",
   "metadata": {},
   "outputs": [],
   "source": [
    "class autoencoder(nn.Module):\n",
    "    def __init__(this, input_dim=784, hidden_dim=15, num_encoder_layers = 2, num_decoder_layers = 2):\n",
    "        super().__init__()\n",
    "        this.encoder = encoder(input_dim, hidden_dim,num_encoder_layers)\n",
    "        this.decoder = decoder(hidden_dim, input_dim,num_decoder_layers)\n",
    "    def forward(this, x):\n",
    "        h = this.encoder(x)\n",
    "        x_prime = this.decoder(h)\n",
    "        return x_prime"
   ]
  },
  {
   "cell_type": "code",
   "execution_count": 208,
   "id": "5aa2607d",
   "metadata": {},
   "outputs": [],
   "source": [
    "num_encoder_layers = 2\n",
    "num_decoder_layers = 1\n",
    "# hidden_dim = 5 # over compressing, trying to reduce calculation time\n",
    "auto_encoder = autoencoder(hidden_dim = hidden_dim,num_encoder_layers=num_encoder_layers,num_decoder_layers=num_decoder_layers)\n",
    "opt = optim.SGD(auto_encoder.parameters(),lr=0.001)\n",
    "loss_fn = nn.MSELoss()"
   ]
  },
  {
   "cell_type": "code",
   "execution_count": 209,
   "id": "00fa7a7f",
   "metadata": {},
   "outputs": [],
   "source": [
    "def train_step(x):\n",
    "    auto_encoder.train()\n",
    "    x_prime = auto_encoder(x)\n",
    "    loss = loss_fn(x,x_prime)\n",
    "    opt.zero_grad()\n",
    "    loss.backward()\n",
    "    opt.step()\n",
    "    return loss.item()"
   ]
  },
  {
   "cell_type": "code",
   "execution_count": 210,
   "id": "e32fb98e",
   "metadata": {},
   "outputs": [],
   "source": [
    "def validation_step():\n",
    "    auto_encoder.eval()\n",
    "    with torch.no_grad():\n",
    "        losses = []\n",
    "        for x in valoader:\n",
    "            x_prime = auto_encoder(x)\n",
    "            loss = loss_fn(x,x_prime)\n",
    "            losses.append(loss.item())\n",
    "    return np.mean(losses)"
   ]
  },
  {
   "cell_type": "code",
   "execution_count": 211,
   "id": "b569926b",
   "metadata": {},
   "outputs": [],
   "source": [
    "def train(nb_epochs):\n",
    "    history = []\n",
    "    val_history = []\n",
    "    for e in range(nb_epochs):\n",
    "        avg_loss = []\n",
    "        print(\"Epoch [{}/{}]\".format(e+1,nb_epochs),end=\"\")\n",
    "        for b, x in enumerate(dataloader):\n",
    "            loss = train_step(x)\n",
    "            avg_loss.append(loss)\n",
    "        history.append(np.mean(avg_loss))\n",
    "        val_history.append(validation_step())\n",
    "        print(\" MSE: {:.4f} VAL_MSE: {:.4f}\".format(history[-1],val_history[-1]))\n",
    "    return history, val_history"
   ]
  },
  {
   "cell_type": "code",
   "execution_count": 212,
   "id": "943dc0b6",
   "metadata": {},
   "outputs": [],
   "source": [
    "history_all = []\n",
    "valid_all = []"
   ]
  },
  {
   "cell_type": "code",
   "execution_count": 240,
   "id": "5d7123cc",
   "metadata": {
    "scrolled": false
   },
   "outputs": [
    {
     "name": "stdout",
     "output_type": "stream",
     "text": [
      "Epoch [1/30] MSE: 0.0874 VAL_MSE: 0.4913\n",
      "Epoch [2/30] MSE: 0.0866 VAL_MSE: 0.4913\n",
      "Epoch [3/30] MSE: 0.0857 VAL_MSE: 0.4912\n",
      "Epoch [4/30] MSE: 0.0849 VAL_MSE: 0.4912\n",
      "Epoch [5/30] MSE: 0.0840 VAL_MSE: 0.4912\n",
      "Epoch [6/30] MSE: 0.0832 VAL_MSE: 0.4912\n",
      "Epoch [7/30] MSE: 0.0823 VAL_MSE: 0.4912\n",
      "Epoch [8/30] MSE: 0.0815 VAL_MSE: 0.4911\n",
      "Epoch [9/30] MSE: 0.0807 VAL_MSE: 0.4911\n",
      "Epoch [10/30] MSE: 0.0799 VAL_MSE: 0.4911\n",
      "Epoch [11/30] MSE: 0.0790 VAL_MSE: 0.4911\n",
      "Epoch [12/30] MSE: 0.0782 VAL_MSE: 0.4911\n",
      "Epoch [13/30] MSE: 0.0774 VAL_MSE: 0.4911\n",
      "Epoch [14/30] MSE: 0.0767 VAL_MSE: 0.4911\n",
      "Epoch [15/30] MSE: 0.0759 VAL_MSE: 0.4911\n",
      "Epoch [16/30] MSE: 0.0751 VAL_MSE: 0.4911\n",
      "Epoch [17/30] MSE: 0.0743 VAL_MSE: 0.4912\n",
      "Epoch [18/30] MSE: 0.0736 VAL_MSE: 0.4912\n",
      "Epoch [19/30] MSE: 0.0728 VAL_MSE: 0.4912\n",
      "Epoch [20/30] MSE: 0.0721 VAL_MSE: 0.4912\n",
      "Epoch [21/30] MSE: 0.0713 VAL_MSE: 0.4912\n",
      "Epoch [22/30] MSE: 0.0706 VAL_MSE: 0.4913\n",
      "Epoch [23/30] MSE: 0.0699 VAL_MSE: 0.4913\n",
      "Epoch [24/30] MSE: 0.0691 VAL_MSE: 0.4913\n",
      "Epoch [25/30] MSE: 0.0684 VAL_MSE: 0.4913\n",
      "Epoch [26/30] MSE: 0.0677 VAL_MSE: 0.4914\n",
      "Epoch [27/30] MSE: 0.0670 VAL_MSE: 0.4914\n",
      "Epoch [28/30] MSE: 0.0663 VAL_MSE: 0.4915\n",
      "Epoch [29/30] MSE: 0.0656 VAL_MSE: 0.4915\n",
      "Epoch [30/30] MSE: 0.0649 VAL_MSE: 0.4915\n"
     ]
    }
   ],
   "source": [
    "nb_epochs = 30\n",
    "history, val_history= train(nb_epochs)\n",
    "history_all += history\n",
    "valid_all += val_history"
   ]
  },
  {
   "cell_type": "code",
   "execution_count": 241,
   "id": "b744a143",
   "metadata": {},
   "outputs": [
    {
     "data": {
      "image/png": "[encoded data removed]",
      "text/plain": [
       "<Figure size 720x720 with 1 Axes>"
      ]
     },
     "metadata": {
      "needs_background": "light"
     },
     "output_type": "display_data"
    }
   ],
   "source": [
    "fig=plt.figure(figsize=(10,10))\n",
    "plt.plot([_ for _ in range(len(history_all))], history_all, label=\"train loss\")\n",
    "plt.plot([_ for _ in range(len(valid_all))], valid_all, label=\"valid loss\")\n",
    "plt.legend()\n",
    "plt.title('Auto encoder training curves')\n",
    "plt.xlabel('Epochs')\n",
    "plt.ylim(0,1)\n",
    "plt.ylabel('MSE')\n",
    "plt.savefig('Autoencoder_training_curves')"
   ]
  },
  {
   "cell_type": "code",
   "execution_count": 242,
   "id": "343cd378",
   "metadata": {},
   "outputs": [],
   "source": [
    "torch.save(auto_encoder.state_dict(),'autoencoder.pth')"
   ]
  },
  {
   "cell_type": "markdown",
   "id": "faeb8a51",
   "metadata": {},
   "source": [
    "#### Using the auto-encoder to project the data"
   ]
  },
  {
   "cell_type": "code",
   "execution_count": 243,
   "id": "c2c8da50",
   "metadata": {},
   "outputs": [],
   "source": [
    "all_images = torch.Tensor(images.reshape(-1,784))\n",
    "auto_encoder.eval()\n",
    "with torch.no_grad():\n",
    "    projected = auto_encoder.encoder(all_images)\n",
    "projected = projected.numpy()"
   ]
  },
  {
   "cell_type": "code",
   "execution_count": 244,
   "id": "bcb45084",
   "metadata": {},
   "outputs": [
    {
     "name": "stdout",
     "output_type": "stream",
     "text": [
      "(60000, 5)\n"
     ]
    }
   ],
   "source": [
    "print(projected.shape)"
   ]
  },
  {
   "cell_type": "markdown",
   "id": "0aa7099c",
   "metadata": {},
   "source": [
    "#### Calculating the second order matrix"
   ]
  },
  {
   "cell_type": "code",
   "execution_count": 245,
   "id": "0f123bf1",
   "metadata": {},
   "outputs": [],
   "source": [
    "from scipy.sparse import coo_matrix"
   ]
  },
  {
   "cell_type": "code",
   "execution_count": 246,
   "id": "7321edb7",
   "metadata": {
    "scrolled": false
   },
   "outputs": [],
   "source": [
    "def distance(x1, x2):\n",
    "    assert type(x1) == np.ndarray\n",
    "    assert type(x2) == np.ndarray\n",
    "    return np.sqrt(np.sum(np.square(x1-x2)))"
   ]
  },
  {
   "cell_type": "markdown",
   "id": "b053f737",
   "metadata": {},
   "source": [
    "Estimating the population $\\sigma$ and $\\mu$ from a smaller sample."
   ]
  },
  {
   "cell_type": "code",
   "execution_count": 250,
   "id": "a7ff9581",
   "metadata": {},
   "outputs": [],
   "source": [
    "ss = 300\n",
    "sample_idx = np.random.permutation(projected.shape[0])[:ss]\n",
    "sample_dists = []\n",
    "for i in range(ss):\n",
    "    for j in range(i+1, ss):\n",
    "        sample_dists.append(distance(projected[sample_idx[i]], projected[sample_idx[j]]))\n",
    "        \n",
    "sigma = np.std(sample_dists)\n",
    "mu = np.mean(sample_dists)\n",
    "threshold = mu - sigma / 2"
   ]
  },
  {
   "cell_type": "markdown",
   "id": "b7ebae4f",
   "metadata": {},
   "source": [
    "**The distance calculation for $60000\\times 60000$ is still big for my system, so I do it on smaller data size.** But this is likely to reduce calculation time on a little more efficient systems.\n",
    "\n",
    "However it is the part of the computation that can not be avoided (since we need a graph for all points), it can only be parallelized."
   ]
  },
  {
   "cell_type": "code",
   "execution_count": 251,
   "id": "2b057d3d",
   "metadata": {},
   "outputs": [],
   "source": [
    "rows = []\n",
    "cols = []\n",
    "data = []\n",
    "select_small = 3000\n",
    "for i in range(select_small):\n",
    "    for j in range(i,select_small): # i <= j\n",
    "        d = distance(projected[i], projected[j])\n",
    "        if d <= threshold:\n",
    "            rows.append(i)\n",
    "            cols.append(j)\n",
    "            rows.append(j)\n",
    "            cols.append(j)\n",
    "            data.append(np.exp(-d**2/(sigma**2)))\n",
    "            data.append(np.exp(-d**2/(sigma**2)))\n",
    "W = coo_matrix((data, (rows, cols)), shape = (select_small,select_small))"
   ]
  },
  {
   "cell_type": "code",
   "execution_count": 267,
   "id": "214bf587",
   "metadata": {
    "scrolled": true
   },
   "outputs": [
    {
     "name": "stdout",
     "output_type": "stream",
     "text": [
      "[[1.         0.63728433 0.         ... 0.         0.         0.        ]\n",
      " [0.         1.         0.         ... 0.         0.         0.        ]\n",
      " [0.         0.         1.         ... 0.         0.         0.        ]\n",
      " ...\n",
      " [0.         0.         0.         ... 1.         0.47623486 0.        ]\n",
      " [0.         0.         0.         ... 0.         1.         0.        ]\n",
      " [0.         0.         0.         ... 0.         0.         1.        ]]\n",
      "[1.0, 0.6372843262211175, 1.0, 0.9961949264506014, 0.45369991928927134, 0.8780140008673278, 0.7230222171511933, 0.5896773928672977, 0.7711240688806094, 0.5951487380037691, 1.0, 0.5822726316931269, 1.0, 0.7653983499850572, 1.0, 1.0, 1.0, 1.0, 0.7839393411055073, 0.5123959869221755, 0.22393581822191014, 1.0, 1.0, 0.9757513959487689, 0.24343204993817344, 0.6230031741563304, 1.0, 0.9005791435899674, 1.0, 0.5208427097147298, 0.8017098159632705, 0.3802166798193911, 0.22787926820922685, 1.0, 0.9707565451776304, 0.3298625846868992, 0.9940772166015975, 0.2369569061235819, 0.4793318269924913, 0.30200774707563194]\n"
     ]
    }
   ],
   "source": [
    "print(W.todense())\n",
    "print(data[:40])"
   ]
  }
 ],
 "metadata": {
  "kernelspec": {
   "display_name": "Python 3 (ipykernel)",
   "language": "python",
   "name": "python3"
  },
  "language_info": {
   "codemirror_mode": {
    "name": "ipython",
    "version": 3
   },
   "file_extension": ".py",
   "mimetype": "text/x-python",
   "name": "python",
   "nbconvert_exporter": "python",
   "pygments_lexer": "ipython3",
   "version": "3.9.5"
  }
 },
 "nbformat": 4,
 "nbformat_minor": 5
}
